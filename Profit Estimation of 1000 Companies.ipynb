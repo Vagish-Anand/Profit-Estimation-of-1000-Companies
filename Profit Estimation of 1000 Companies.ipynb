{
 "cells": [
  {
   "cell_type": "code",
   "execution_count": 1,
   "metadata": {},
   "outputs": [],
   "source": [
    "#importing Libraries\n",
    "import numpy as np\n",
    "import pandas as pd\n",
    "import matplotlib.pyplot as plt\n",
    "import seaborn as sns\n",
    "%matplotlib inline"
   ]
  },
  {
   "cell_type": "code",
   "execution_count": 2,
   "metadata": {},
   "outputs": [
    {
     "data": {
      "text/html": [
       "<div>\n",
       "<style scoped>\n",
       "    .dataframe tbody tr th:only-of-type {\n",
       "        vertical-align: middle;\n",
       "    }\n",
       "\n",
       "    .dataframe tbody tr th {\n",
       "        vertical-align: top;\n",
       "    }\n",
       "\n",
       "    .dataframe thead th {\n",
       "        text-align: right;\n",
       "    }\n",
       "</style>\n",
       "<table border=\"1\" class=\"dataframe\">\n",
       "  <thead>\n",
       "    <tr style=\"text-align: right;\">\n",
       "      <th></th>\n",
       "      <th>R&amp;D Spend</th>\n",
       "      <th>Administration</th>\n",
       "      <th>Marketing Spend</th>\n",
       "      <th>State</th>\n",
       "      <th>Profit</th>\n",
       "    </tr>\n",
       "  </thead>\n",
       "  <tbody>\n",
       "    <tr>\n",
       "      <th>0</th>\n",
       "      <td>165349.20</td>\n",
       "      <td>136897.80</td>\n",
       "      <td>471784.10</td>\n",
       "      <td>New York</td>\n",
       "      <td>192261.83</td>\n",
       "    </tr>\n",
       "    <tr>\n",
       "      <th>1</th>\n",
       "      <td>162597.70</td>\n",
       "      <td>151377.59</td>\n",
       "      <td>443898.53</td>\n",
       "      <td>California</td>\n",
       "      <td>191792.06</td>\n",
       "    </tr>\n",
       "    <tr>\n",
       "      <th>2</th>\n",
       "      <td>153441.51</td>\n",
       "      <td>101145.55</td>\n",
       "      <td>407934.54</td>\n",
       "      <td>Florida</td>\n",
       "      <td>191050.39</td>\n",
       "    </tr>\n",
       "    <tr>\n",
       "      <th>3</th>\n",
       "      <td>144372.41</td>\n",
       "      <td>118671.85</td>\n",
       "      <td>383199.62</td>\n",
       "      <td>New York</td>\n",
       "      <td>182901.99</td>\n",
       "    </tr>\n",
       "    <tr>\n",
       "      <th>4</th>\n",
       "      <td>142107.34</td>\n",
       "      <td>91391.77</td>\n",
       "      <td>366168.42</td>\n",
       "      <td>Florida</td>\n",
       "      <td>166187.94</td>\n",
       "    </tr>\n",
       "  </tbody>\n",
       "</table>\n",
       "</div>"
      ],
      "text/plain": [
       "   R&D Spend  Administration  Marketing Spend       State     Profit\n",
       "0  165349.20       136897.80        471784.10    New York  192261.83\n",
       "1  162597.70       151377.59        443898.53  California  191792.06\n",
       "2  153441.51       101145.55        407934.54     Florida  191050.39\n",
       "3  144372.41       118671.85        383199.62    New York  182901.99\n",
       "4  142107.34        91391.77        366168.42     Florida  166187.94"
      ]
     },
     "execution_count": 2,
     "metadata": {},
     "output_type": "execute_result"
    }
   ],
   "source": [
    "#importing the dataset and Extracting Independent & Dependent Variables\n",
    "companies = pd.read_csv(r'C:\\Users\\vagis\\Desktop\\1000_Companies.csv')\n",
    "x= companies.iloc[:,:-1].values\n",
    "y=companies.iloc[:,4].values\n",
    "\n",
    "companies.head()"
   ]
  },
  {
   "cell_type": "code",
   "execution_count": 3,
   "metadata": {},
   "outputs": [
    {
     "data": {
      "text/plain": [
       "<matplotlib.axes._subplots.AxesSubplot at 0x1d1022ec848>"
      ]
     },
     "execution_count": 3,
     "metadata": {},
     "output_type": "execute_result"
    },
    {
     "data": {
      "image/png": "[encoded data removed]",
      "text/plain": [
       "<Figure size 432x288 with 2 Axes>"
      ]
     },
     "metadata": {
      "needs_background": "light"
     },
     "output_type": "display_data"
    }
   ],
   "source": [
    "#Building the Correlation Matrix\n",
    "sns.heatmap(companies.corr())"
   ]
  },
  {
   "cell_type": "code",
   "execution_count": 4,
   "metadata": {},
   "outputs": [],
   "source": [
    "#Encoding the Categorical Data\n",
    "from sklearn.preprocessing import OneHotEncoder\n",
    "from sklearn.compose import ColumnTransformer\n",
    "ct = ColumnTransformer([('State',OneHotEncoder(),[3])], remainder='passthrough')\n",
    "x=ct.fit_transform(x)"
   ]
  },
  {
   "cell_type": "code",
   "execution_count": 5,
   "metadata": {},
   "outputs": [
    {
     "name": "stdout",
     "output_type": "stream",
     "text": [
      "[0.0 0.0 1.0 165349.2 136897.8 471784.1]\n"
     ]
    }
   ],
   "source": [
    "print(x[0])"
   ]
  },
  {
   "cell_type": "code",
   "execution_count": 6,
   "metadata": {},
   "outputs": [],
   "source": [
    "#avoiding dummy variables\n",
    "x=x[:,1:]"
   ]
  },
  {
   "cell_type": "code",
   "execution_count": 7,
   "metadata": {},
   "outputs": [],
   "source": [
    "#Spliting dataset into Training and Testing Datasets\n",
    "from sklearn.model_selection import train_test_split\n",
    "x_train, x_test, y_train, y_test = train_test_split(x, y, test_size =0.2, random_state = 0)"
   ]
  },
  {
   "cell_type": "code",
   "execution_count": 9,
   "metadata": {},
   "outputs": [
    {
     "data": {
      "text/plain": [
       "LinearRegression(copy_X=True, fit_intercept=True, n_jobs=None, normalize=False)"
      ]
     },
     "execution_count": 9,
     "metadata": {},
     "output_type": "execute_result"
    }
   ],
   "source": [
    "#fitting multiple linear refression model to the training dataset\n",
    "from sklearn.linear_model import LinearRegression\n",
    "regressor = LinearRegression()\n",
    "regressor.fit(x_train, y_train)    "
   ]
  },
  {
   "cell_type": "code",
   "execution_count": 10,
   "metadata": {},
   "outputs": [
    {
     "name": "stdout",
     "output_type": "stream",
     "text": [
      "[ 89790.61532916  88427.07187361  94894.67836972 175680.8672561\n",
      "  83411.73042089 110571.90200074 132145.22936439  91473.37719687\n",
      " 164597.05380606  53222.82667402  66950.1905099  150566.43987004\n",
      " 126915.20858596  59337.85971051 177513.91053061  75316.28143051\n",
      " 118248.14406603 164574.40699901 170937.2898107  182069.11645084\n",
      " 118845.0325269   85669.95112229 180992.59396143  84145.08220145\n",
      " 105005.83769214 101233.56772747  53831.07669092  56881.41475225\n",
      "  68896.39346905 210040.00765882 120778.72270894 111724.87157654\n",
      " 101487.90541518 137959.02649624  63969.95996744 108857.91214126\n",
      " 186014.72531987 171442.64130747 174644.26529204 117671.49128195\n",
      "  96731.37857433 165452.25779409 107724.34331255  50194.54176914\n",
      " 116513.89532179  58632.48986821 158416.46827609  78541.4852161\n",
      " 159727.66671743 131137.87699644 184880.70924515 174609.08266879\n",
      "  93745.66352059  78341.13383418 180745.90439079  84461.61490552\n",
      " 142900.90602903 170618.44098396  84365.09530839 105307.3716218\n",
      " 141660.07290786  52527.34340443 141842.9626416  139176.27973195\n",
      "  98294.52669666 113586.86790969 126754.21895489 152135.51985561\n",
      "  58864.51658955 174285.57361129 124624.04380784 169065.77658978\n",
      "  91279.3319821  156170.37268962  84307.26579366  77877.75223097\n",
      " 120414.02421346  93380.44273242 139020.62514121 143604.67103572\n",
      " 171148.30815368 140082.97050131 106369.71689747 155641.43851387\n",
      " 140030.10330037 110172.87893525  69672.98677565  88148.52068041\n",
      " 140133.59925093 148479.09537887 157916.63505257  58532.94863142\n",
      "  93707.3842239  112646.37475705  56556.18943661 107414.89996181\n",
      " 147352.80227752 152144.10104034 167808.11701783 118750.25230713\n",
      " 120763.27666701 139029.95295662 157527.90934119 121962.0621496\n",
      "  87091.32399737 104792.91384334  95335.22679185 178389.52287436\n",
      " 181942.63776381 109831.34945506 165254.03344096 167806.06491902\n",
      " 158002.44642543 174782.86900956 170196.77102698  52302.18161612\n",
      " 176938.11595789 104751.83583865  82710.31528806 138890.52767844\n",
      " 144274.74675425 161679.0183644  169662.05445895 120450.9231013\n",
      " 158880.70799546 110213.73252824 169674.51532366  60760.61300842\n",
      " 159036.99629068 158169.44286047 174511.70494474 156294.79927783\n",
      " 103714.37583212  85635.96237574 141603.54878757 165917.69156979\n",
      " 121182.03641977 170751.87883893 100505.77549412  82097.51033128\n",
      " 178643.18879842 101790.48384579  70507.40958622  90250.04230089\n",
      "  61247.4996268   68912.17534521  72775.81613476 176914.08873124\n",
      "  89704.69244931 129209.43730015  92672.90938383  88133.59175044\n",
      " 172836.33021618  60893.62070015 169015.8944601  166450.24453204\n",
      " 165425.54476415 102170.5169499  181594.57928215  73702.57942562\n",
      "  91267.42979669 135791.54160195  64922.802573    71775.70235726\n",
      "  60603.91401516 184288.61041915 176286.69585945 158907.75687038\n",
      " 141359.32216438 154611.17928321  58549.58863233  90618.58407899\n",
      " 152885.51163925 168398.05223805  72485.3627454  116064.24350667\n",
      "  80087.80697209 149828.90896188 116806.9595737  130191.48845161\n",
      " 174534.42670328 293584.45948282 146270.83174788 150646.69178013\n",
      "  86107.47782247  69967.20842246  70096.78368774  69033.69170769\n",
      " 120666.75708063  89677.68014064 166824.27091662 125514.76626409\n",
      "  67209.67687467 140930.69427701 118544.30490695 165897.61905906\n",
      " 168655.48652552 147009.66805048 141396.22104146 109086.50634849]\n"
     ]
    }
   ],
   "source": [
    "#predicting the Test set\n",
    "y_pred=regressor.predict(x_test)\n",
    "print(y_pred)"
   ]
  },
  {
   "cell_type": "code",
   "execution_count": 11,
   "metadata": {},
   "outputs": [
    {
     "name": "stdout",
     "output_type": "stream",
     "text": [
      "[-8.80536598e+02 -6.98169073e+02  5.25845857e-01  8.44390881e-01\n",
      "  1.07574255e-01]\n"
     ]
    }
   ],
   "source": [
    "#Calculating Coefficient\n",
    "print(regressor.coef_)"
   ]
  },
  {
   "cell_type": "code",
   "execution_count": 12,
   "metadata": {},
   "outputs": [
    {
     "name": "stdout",
     "output_type": "stream",
     "text": [
      "-51035.22972401607\n"
     ]
    }
   ],
   "source": [
    "#Calculating Intercept\n",
    "print(regressor.intercept_)"
   ]
  },
  {
   "cell_type": "code",
   "execution_count": 13,
   "metadata": {},
   "outputs": [
    {
     "data": {
      "text/plain": [
       "0.9112695892268822"
      ]
     },
     "execution_count": 13,
     "metadata": {},
     "output_type": "execute_result"
    }
   ],
   "source": [
    "#Calculating R-Squared\n",
    "from sklearn.metrics import r2_score\n",
    "r2_score(y_test,y_pred)"
   ]
  }
 ],
 "metadata": {
  "kernelspec": {
   "display_name": "Python 3",
   "language": "python",
   "name": "python3"
  },
  "language_info": {
   "codemirror_mode": {
    "name": "ipython",
    "version": 3
   },
   "file_extension": ".py",
   "mimetype": "text/x-python",
   "name": "python",
   "nbconvert_exporter": "python",
   "pygments_lexer": "ipython3",
   "version": "3.7.6"
  }
 },
 "nbformat": 4,
 "nbformat_minor": 4
}
